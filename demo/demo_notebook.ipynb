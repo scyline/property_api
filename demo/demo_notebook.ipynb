{
 "cells": [
  {
   "cell_type": "code",
   "execution_count": 1,
   "metadata": {},
   "outputs": [
    {
     "data": {
      "text/plain": [
       "[None]"
      ]
     },
     "execution_count": 1,
     "metadata": {},
     "output_type": "execute_result"
    }
   ],
   "source": [
    "import pandas as pd\n",
    "\n",
    "l_test = []\n",
    "l_test.append(None)\n",
    "l_test"
   ]
  },
  {
   "cell_type": "code",
   "execution_count": 6,
   "metadata": {},
   "outputs": [
    {
     "name": "stdout",
     "output_type": "stream",
     "text": [
      "Current directory: /Users/sqwu/property_api/property_api/demo\n",
      "New directory: /Users/sqwu/property_api/property_api\n"
     ]
    }
   ],
   "source": [
    "import os\n",
    "\n",
    "# Get current working directory\n",
    "print(\"Current directory:\", os.getcwd())\n",
    "\n",
    "# Change to a new directory\n",
    "new_dir = \"/Users/sqwu/property_api/property_api\"\n",
    "os.chdir(new_dir)\n",
    "\n",
    "# Verify the change\n",
    "print(\"New directory:\", os.getcwd())"
   ]
  },
  {
   "cell_type": "code",
   "execution_count": 7,
   "metadata": {},
   "outputs": [
    {
     "name": "stdout",
     "output_type": "stream",
     "text": [
      "Found 0 potential duplicates\n",
      "Empty DataFrame\n",
      "Columns: [_sa_instance_state, rent, property_type, base, number_of_bathroom, link, address, unique_id, location, price, number_of_bedroom, description, run_time]\n",
      "Index: []\n"
     ]
    }
   ],
   "source": [
    "import pandas as pd\n",
    "from sqlalchemy import create_engine\n",
    "from src.database import db\n",
    "\n",
    "database = db.SessionLocal()\n",
    "data = database.query(db.FlatsToRent).all()\n",
    "df = pd.DataFrame([task.__dict__ for task in data])\n",
    "\n",
    "# Check for duplicates\n",
    "duplicates = df[df.duplicated(['unique_id'], keep=False)]\n",
    "print(f\"Found {len(duplicates)} potential duplicates\")\n",
    "print(duplicates.head())"
   ]
  },
  {
   "cell_type": "code",
   "execution_count": 3,
   "metadata": {},
   "outputs": [
    {
     "data": {
      "text/plain": [
       "'{\"address\":{\"0\":\"Valencia Tower, London, EC1V\",\"1\":\"Charlotte Terrace, London, N1 0TS\"},\"location\":{\"0\":\"Islington\",\"1\":\"Islington\"},\"price\":{\"0\":3600,\"1\":1750},\"number_of_bedroom\":{\"0\":1,\"1\":1},\"description\":{\"0\":\"One-bedroom apartment in the highly anticipated 250 City Road development, EC1V. The property comprises an open plan kitchen living area, bedroom with built in storage and stylish bathroom.\",\"1\":\"Hauzoo are delighted to market this delightful newly refurbished 1 bedroom, 1 bathroom ground floor flat with private garden located in Islington.\"},\"run_time\":{\"0\":\"2025-05-25\",\"1\":\"2025-05-25\"},\"property_type\":{\"0\":\"Flat\",\"1\":\"Flat\"},\"unique_id\":{\"0\":\"1|1|2025-05-25|06:10:55.078496\",\"1\":\"1|2|2025-05-25|06:10:55.078496\"},\"rent\":{\"0\":\"\\\\u00a33,600 pcm\",\"1\":\"\\\\u00a31,750 pcm\"},\"base\":{\"0\":\"pcm\",\"1\":\"pcm\"},\"number_of_bathroom\":{\"0\":1,\"1\":1},\"link\":{\"0\":\"https:\\\\/\\\\/www.rightmove.co.uk\\\\/properties\\\\/134069828#\\\\/?channel=RES_LET\",\"1\":\"https:\\\\/\\\\/www.rightmove.co.uk\\\\/properties\\\\/162418898#\\\\/?channel=RES_LET\"}}'"
      ]
     },
     "execution_count": 3,
     "metadata": {},
     "output_type": "execute_result"
    }
   ],
   "source": [
    "data = [\n",
    "  {\n",
    "    \"address\": \"Valencia Tower, London, EC1V\",\n",
    "    \"location\": \"Islington\",\n",
    "    \"price\": 3600,\n",
    "    \"number_of_bedroom\": 1,\n",
    "    \"description\": \"One-bedroom apartment in the highly anticipated 250 City Road development, EC1V. The property comprises an open plan kitchen living area, bedroom with built in storage and stylish bathroom.\",\n",
    "    \"run_time\": \"2025-05-25\",\n",
    "    \"property_type\": \"Flat\",\n",
    "    \"unique_id\": \"1|1|2025-05-25|06:10:55.078496\",\n",
    "    \"rent\": \"£3,600 pcm\",\n",
    "    \"base\": \"pcm\",\n",
    "    \"number_of_bathroom\": 1,\n",
    "    \"link\": \"https://www.rightmove.co.uk/properties/134069828#/?channel=RES_LET\"\n",
    "  },\n",
    "  {\n",
    "    \"address\": \"Charlotte Terrace, London, N1 0TS\",\n",
    "    \"location\": \"Islington\",\n",
    "    \"price\": 1750,\n",
    "    \"number_of_bedroom\": 1,\n",
    "    \"description\": \"Hauzoo are delighted to market this delightful newly refurbished 1 bedroom, 1 bathroom ground floor flat with private garden located in Islington.\",\n",
    "    \"run_time\": \"2025-05-25\",\n",
    "    \"property_type\": \"Flat\",\n",
    "    \"unique_id\": \"1|2|2025-05-25|06:10:55.078496\",\n",
    "    \"rent\": \"£1,750 pcm\",\n",
    "    \"base\": \"pcm\",\n",
    "    \"number_of_bathroom\": 1,\n",
    "    \"link\": \"https://www.rightmove.co.uk/properties/162418898#/?channel=RES_LET\"\n",
    "  },]\n",
    "\n",
    "import pandas as pd\n",
    "df = pd.DataFrame(data)\n",
    "df.to_json()"
   ]
  },
  {
   "cell_type": "code",
   "execution_count": null,
   "metadata": {},
   "outputs": [],
   "source": []
  },
  {
   "cell_type": "code",
   "execution_count": 2,
   "metadata": {},
   "outputs": [
    {
     "data": {
      "text/plain": [
       "1"
      ]
     },
     "execution_count": 2,
     "metadata": {},
     "output_type": "execute_result"
    }
   ],
   "source": [
    "len(l_test)"
   ]
  },
  {
   "cell_type": "code",
   "execution_count": 4,
   "metadata": {},
   "outputs": [
    {
     "name": "stdout",
     "output_type": "stream",
     "text": [
      "2400\n"
     ]
    }
   ],
   "source": [
    "import re\n",
    "\n",
    "price_str = \"£2,400 pcm\"\n",
    "match = re.search(r'\\d[\\d,]*', price_str)\n",
    "\n",
    "if match:\n",
    "    price = int(match.group(0).replace(',', ''))\n",
    "    print(price)  # Output: 2400\n",
    "else:\n",
    "    price = None\n"
   ]
  },
  {
   "cell_type": "code",
   "execution_count": 7,
   "metadata": {},
   "outputs": [
    {
     "name": "stdout",
     "output_type": "stream",
     "text": [
      "1747491545.5240908\n",
      "current time: 2025-05-17 15:19:05.524587\n"
     ]
    }
   ],
   "source": [
    "import time\n",
    "import datetime\n",
    "\n",
    "ts = time.time()\n",
    "print(ts)\n",
    "ct = datetime.datetime.now()\n",
    "print(\"current time:\", ct)"
   ]
  },
  {
   "cell_type": "code",
   "execution_count": 9,
   "metadata": {},
   "outputs": [
    {
     "data": {
      "text/html": [
       "<div>\n",
       "<style scoped>\n",
       "    .dataframe tbody tr th:only-of-type {\n",
       "        vertical-align: middle;\n",
       "    }\n",
       "\n",
       "    .dataframe tbody tr th {\n",
       "        vertical-align: top;\n",
       "    }\n",
       "\n",
       "    .dataframe thead th {\n",
       "        text-align: right;\n",
       "    }\n",
       "</style>\n",
       "<table border=\"1\" class=\"dataframe\">\n",
       "  <thead>\n",
       "    <tr style=\"text-align: right;\">\n",
       "      <th></th>\n",
       "      <th>col1</th>\n",
       "      <th>col2</th>\n",
       "    </tr>\n",
       "  </thead>\n",
       "  <tbody>\n",
       "    <tr>\n",
       "      <th>0</th>\n",
       "      <td>a</td>\n",
       "      <td>1</td>\n",
       "    </tr>\n",
       "    <tr>\n",
       "      <th>2</th>\n",
       "      <td>b</td>\n",
       "      <td>2</td>\n",
       "    </tr>\n",
       "  </tbody>\n",
       "</table>\n",
       "</div>"
      ],
      "text/plain": [
       "  col1  col2\n",
       "0    a     1\n",
       "2    b     2"
      ]
     },
     "execution_count": 9,
     "metadata": {},
     "output_type": "execute_result"
    }
   ],
   "source": [
    "import pandas as pd\n",
    "\n",
    "df = pd.DataFrame({\"col1\":[\"a\",\"a\",\"b\"],\n",
    "                   \"col2\":[1,1,2]})\n",
    "\n",
    "df.drop_duplicates()"
   ]
  },
  {
   "cell_type": "code",
   "execution_count": 13,
   "metadata": {},
   "outputs": [
    {
     "data": {
      "text/plain": [
       "True"
      ]
     },
     "execution_count": 13,
     "metadata": {},
     "output_type": "execute_result"
    }
   ],
   "source": [
    "\n",
    "a =  False\n",
    "not a"
   ]
  },
  {
   "cell_type": "code",
   "execution_count": 11,
   "metadata": {},
   "outputs": [
    {
     "data": {
      "text/plain": [
       "3"
      ]
     },
     "execution_count": 11,
     "metadata": {},
     "output_type": "execute_result"
    }
   ],
   "source": [
    "len(df)"
   ]
  },
  {
   "cell_type": "code",
   "execution_count": 10,
   "metadata": {},
   "outputs": [
    {
     "name": "stdout",
     "output_type": "stream",
     "text": [
      "current time: 2025-05-17|15:52:02.520054\n"
     ]
    }
   ],
   "source": [
    "ts = time.time()\n",
    "ct = datetime.datetime.now()\n",
    "print(\"current time:\", str(ct).replace(\" \",\"|\"))"
   ]
  }
 ],
 "metadata": {
  "kernelspec": {
   "display_name": ".venv",
   "language": "python",
   "name": "python3"
  },
  "language_info": {
   "codemirror_mode": {
    "name": "ipython",
    "version": 3
   },
   "file_extension": ".py",
   "mimetype": "text/x-python",
   "name": "python",
   "nbconvert_exporter": "python",
   "pygments_lexer": "ipython3",
   "version": "3.9.7"
  }
 },
 "nbformat": 4,
 "nbformat_minor": 2
}
